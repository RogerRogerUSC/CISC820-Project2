{
 "cells": [
  {
   "cell_type": "code",
   "execution_count": 50,
   "metadata": {},
   "outputs": [],
   "source": [
    "import numpy as np\n",
    "import matplotlib.pyplot as plt"
   ]
  },
  {
   "cell_type": "code",
   "execution_count": 51,
   "metadata": {},
   "outputs": [],
   "source": [
    "# Loading data function for function2\n",
    "def load_data():\n",
    "    A = np.loadtxt(\"data/fun2_A.txt\").reshape((500, 100))\n",
    "    b = np.loadtxt(\"data/fun2_b.txt\").reshape(-1, 1)\n",
    "    c = np.loadtxt(\"data/fun2_c.txt\").reshape(-1, 1)\n",
    "    return A, b, c\n",
    "\n",
    "\n",
    "# Initialize coefficient and start point\n",
    "A, b, c = load_data()\n",
    "x0_f1 = np.random.rand(100)\n",
    "x0_f2 = np.abs(np.random.rand(100))\n",
    "x0_f3 = np.array([0.0, 0.0])"
   ]
  },
  {
   "cell_type": "markdown",
   "metadata": {},
   "source": [
    "# Define three functions: "
   ]
  },
  {
   "cell_type": "code",
   "execution_count": 52,
   "metadata": {},
   "outputs": [],
   "source": [
    "# Define function1\n",
    "def function1(x):\n",
    "    return np.sum(np.arange(1, len(x) + 1) * x**2)\n",
    "\n",
    "\n",
    "def grad_function1(x):\n",
    "    return 2 * np.arange(1, len(x) + 1) * x"
   ]
  },
  {
   "cell_type": "code",
   "execution_count": 53,
   "metadata": {},
   "outputs": [],
   "source": [
    "# Define function2\n",
    "def function2(x, A, b, c):\n",
    "    Ax = A @ x\n",
    "    return c.T @ x - np.sum(np.log(np.clip(b.flatten() - Ax, 1e-8, None)))\n",
    "\n",
    "\n",
    "def grad_function2(x, A, b, c):\n",
    "    Ax = A @ x\n",
    "    term = 1 / (b.flatten() - Ax)\n",
    "    return c.flatten() + A.T @ term\n",
    "\n",
    "\n",
    "def hessian_function2(x, A, b):\n",
    "    Ax = A @ x\n",
    "    D = np.diagflat(1 / np.clip((b.flatten() - Ax) ** 2, 1e-10, None))\n",
    "    H = A.T @ D @ A\n",
    "    H += 1e-6 * np.eye(H.shape[0])\n",
    "    return H"
   ]
  },
  {
   "cell_type": "code",
   "execution_count": 54,
   "metadata": {},
   "outputs": [],
   "source": [
    "# Define function3\n",
    "def function3(x):\n",
    "    return 100 * (x[1] - x[0] ** 2) ** 2 + (1 - x[0]) ** 2\n",
    "\n",
    "\n",
    "def grad_function3(x):\n",
    "    return np.array(\n",
    "        [-400 * x[0] * (x[1] - x[0] ** 2) - 2 * (1 - x[0]), 200 * (x[1] - x[0] ** 2)]\n",
    "    )\n",
    "\n",
    "\n",
    "def hessian_function3(x):\n",
    "    return np.array(\n",
    "        [[1200 * x[0] ** 2 - 400 * x[1] + 2, -400 * x[0]], [-400 * x[0], 200]]\n",
    "    )"
   ]
  },
  {
   "cell_type": "markdown",
   "metadata": {},
   "source": [
    "# Gradient Descent method: "
   ]
  },
  {
   "cell_type": "code",
   "execution_count": 55,
   "metadata": {},
   "outputs": [],
   "source": [
    "# Optimization method 1: GD\n",
    "def gradient_descent(func, grad_func, x0, alpha=0.001, tol=1e-6, max_iter=200):\n",
    "    x = x0\n",
    "    history = []\n",
    "    for i in range(max_iter):\n",
    "        grad = grad_func(x)\n",
    "        history.append(func(x))\n",
    "        x = x - alpha * grad\n",
    "        if np.linalg.norm(grad) < tol:\n",
    "            break\n",
    "    return x, history"
   ]
  },
  {
   "cell_type": "markdown",
   "metadata": {},
   "source": [
    "# Newton method: "
   ]
  },
  {
   "cell_type": "code",
   "execution_count": 56,
   "metadata": {},
   "outputs": [],
   "source": [
    "def line_search_newton(func, x, p, grad, alpha=1.0, c1=1e-4, rho=0.9):\n",
    "    while func(x + alpha * p) > func(x) + c1 * alpha * np.dot(grad, p):\n",
    "        alpha *= rho\n",
    "    return alpha\n",
    "\n",
    "\n",
    "# Optimization method 2: Newton\n",
    "def newton_method(func, grad_func, hess_func, x0, tol=1e-6, max_iter=200):\n",
    "    x = x0\n",
    "    history = []\n",
    "    for i in range(max_iter):\n",
    "        grad = grad_func(x)\n",
    "        hess = hess_func(x)\n",
    "        history.append(func(x))\n",
    "        try:\n",
    "            p = -np.linalg.solve(hess, grad)\n",
    "        except np.linalg.LinAlgError:\n",
    "            print(f\"Iteration {i}: Stopping because Hessian is singular.\")\n",
    "            break\n",
    "        alpha = line_search_newton(func, x, p, grad)\n",
    "        x = x + alpha * p\n",
    "        if np.linalg.norm(grad) < tol:\n",
    "            break\n",
    "    return x, history"
   ]
  },
  {
   "cell_type": "markdown",
   "metadata": {},
   "source": [
    "# Quasi-Newton method: "
   ]
  },
  {
   "cell_type": "code",
   "execution_count": 57,
   "metadata": {},
   "outputs": [],
   "source": [
    "def line_search(func, grad_func, x, p, alpha=1.0, c1=1e-4, rho=0.9):\n",
    "    while func(x + alpha * p) > func(x) + c1 * alpha * np.dot(grad_func(x), p):\n",
    "        alpha *= rho\n",
    "    return alpha\n",
    "\n",
    "\n",
    "def quasi_newton(func, grad_func, x0, tol=1e-4, max_iter=200):\n",
    "    x = x0\n",
    "    n = len(x0)\n",
    "    I = np.eye(n)\n",
    "    H = I\n",
    "    history = []\n",
    "    for i in range(max_iter):\n",
    "        grad = grad_func(x)\n",
    "        history.append(func(x))\n",
    "        if np.linalg.norm(grad) < tol:\n",
    "            print(f\"Converged in {i} iterations\")\n",
    "            break\n",
    "        p = -H @ grad\n",
    "        alpha = line_search(func, grad_func, x, p)\n",
    "        x_new = x + alpha * p\n",
    "        s = x_new - x\n",
    "        y = grad_func(x_new) - grad\n",
    "        ys = y @ s\n",
    "        if ys < 1e-10:\n",
    "            print(\"Warning.\")\n",
    "            break\n",
    "        rho = 1.0 / ys\n",
    "        H = (I - rho * np.outer(s, y)) @ H @ (\n",
    "            I - rho * np.outer(y, s)\n",
    "        ) + rho * np.outer(s, s)\n",
    "        x = x_new\n",
    "    return x, history"
   ]
  },
  {
   "cell_type": "markdown",
   "metadata": {},
   "source": [
    "# SignGD: "
   ]
  },
  {
   "cell_type": "code",
   "execution_count": null,
   "metadata": {},
   "outputs": [],
   "source": [
    "# Optimization method 4: SignGD\n",
    "def signgd(func, grad_func, x0, alpha=0.01, tol=1e-6, max_iter=200):\n",
    "    x = x0\n",
    "    history = []\n",
    "    for i in range(max_iter):\n",
    "        grad = grad_func(x)\n",
    "        history.append(func(x))\n",
    "        x = x - alpha * np.sign(grad)\n",
    "        if np.linalg.norm(grad) < tol:\n",
    "            break\n",
    "    return x, history"
   ]
  },
  {
   "cell_type": "code",
   "execution_count": 58,
   "metadata": {},
   "outputs": [
    {
     "name": "stdout",
     "output_type": "stream",
     "text": [
      "Function1 Results:\n",
      "Gradient Descent: [2.51972178e-01 9.38276105e-02 2.58355171e-01 4.11889248e-01\n",
      " 2.29878397e-01 9.74475360e-02 2.40107095e-01 1.69168361e-01\n",
      " 8.60124696e-03 7.28234702e-02 8.15960878e-02 3.41006018e-02\n",
      " 2.78305266e-02 2.21243323e-02 3.34474549e-02 3.65740894e-02\n",
      " 1.89112954e-02 5.14102353e-03 2.95173870e-03 1.64069555e-02\n",
      " 1.08142658e-02 7.97102851e-03 1.89704232e-03 4.34818160e-03\n",
      " 2.32451479e-03 4.28725923e-03 3.72129301e-03 1.89828543e-03\n",
      " 1.96112697e-04 1.06095735e-03 1.22380365e-03 1.25078809e-03\n",
      " 8.53774963e-04 4.06511881e-04 6.13138360e-04 4.04302850e-04\n",
      " 2.61769890e-04 1.01407519e-04 2.48070732e-04 2.27114624e-04\n",
      " 5.02695035e-06 8.75916716e-05 1.17234788e-04 5.39944746e-05\n",
      " 2.62363168e-05 1.19404682e-05 4.24256756e-05 1.49674761e-07\n",
      " 1.25436580e-05 1.83237314e-06 9.64496140e-06 1.14025795e-05\n",
      " 1.30012698e-05 9.36450366e-06 3.08781245e-06 3.64218541e-06\n",
      " 2.57812163e-06 1.21864367e-06 7.78820121e-07 1.33621612e-06\n",
      " 1.08923958e-06 1.20721524e-06 1.27765053e-06 6.05974594e-07\n",
      " 4.45719432e-07 7.69618930e-08 2.97039973e-07 3.17724163e-07\n",
      " 2.91714147e-07 2.40497101e-07 1.10073335e-07 3.83125725e-08\n",
      " 2.69070863e-08 6.62847283e-09 2.82814098e-09 3.28360536e-08\n",
      " 2.08799646e-08 1.06907756e-08 1.27121687e-08 3.34059852e-09\n",
      " 1.85077761e-08 1.54657183e-08 1.13971704e-08 2.82131120e-09\n",
      " 2.33387192e-09 1.41730561e-09 1.84465495e-09 2.66008409e-09\n",
      " 1.50094292e-10 1.50815396e-09 4.99676683e-10 5.98965819e-10\n",
      " 9.30657684e-10 1.84601365e-10 4.35134021e-10 3.94535458e-10\n",
      " 4.14543633e-10 6.60986596e-11 1.06910507e-10 1.84962897e-10]\n",
      "Newton: [0. 0. 0. 0. 0. 0. 0. 0. 0. 0. 0. 0. 0. 0. 0. 0. 0. 0. 0. 0. 0. 0. 0. 0.\n",
      " 0. 0. 0. 0. 0. 0. 0. 0. 0. 0. 0. 0. 0. 0. 0. 0. 0. 0. 0. 0. 0. 0. 0. 0.\n",
      " 0. 0. 0. 0. 0. 0. 0. 0. 0. 0. 0. 0. 0. 0. 0. 0. 0. 0. 0. 0. 0. 0. 0. 0.\n",
      " 0. 0. 0. 0. 0. 0. 0. 0. 0. 0. 0. 0. 0. 0. 0. 0. 0. 0. 0. 0. 0. 0. 0. 0.\n",
      " 0. 0. 0. 0.]\n",
      "Quasi-Newton: [ 1.15726297e+00  3.53112081e-02 -1.03018779e-01 -1.17304406e-01\n",
      " -7.57392852e-02 -2.08678644e-02 -1.62576645e-01 -1.41617594e-01\n",
      "  2.82672673e-02 -5.68459811e-02 -9.08246918e-02 -6.70565639e-02\n",
      " -7.47250017e-02 -2.86018746e-02 -8.96084281e-02 -4.93563935e-02\n",
      " -1.80870691e-01  3.29558969e-01 -6.65050902e-01 -9.72429083e-03\n",
      " -2.77506574e-01  7.70739592e-02 -3.72032327e-01 -5.19814431e-02\n",
      "  4.14667395e-02 -2.65828507e-01 -2.55018971e-02 -2.27291339e-01\n",
      "  8.39034575e-02  8.83379881e-02 -3.25726190e-01  6.49614510e-02\n",
      " -3.20461718e-01  8.87635020e-02 -1.40998465e-01 -2.18688801e-01\n",
      "  4.92663177e-02 -2.50172199e-01 -1.19163958e-01 -1.22196644e-01\n",
      " -4.11640333e-02 -1.35567230e-01 -6.95744167e-02 -2.64025169e-01\n",
      "  1.86932290e-01 -2.29426003e-01 -1.23713943e-01  1.25705808e-02\n",
      " -2.46392110e-02 -1.88609475e-01 -4.55849020e-02 -6.43295337e-02\n",
      " -2.01032938e-01  9.91000476e-05 -3.12016330e-01  7.74616229e-02\n",
      " -1.18680021e-01 -9.41555314e-02  1.75589189e-01 -1.66277754e-01\n",
      " -6.65686294e-03 -1.12359589e-01 -1.67620647e-01 -8.61839553e-03\n",
      " -1.76648671e-01  3.02692905e-01 -1.27102228e-01 -6.34662779e-02\n",
      " -1.50593781e-01 -1.23628579e-01 -1.03543101e-01 -9.64283238e-04\n",
      " -5.26739933e-02 -7.64184872e-04 -6.75899449e-03 -5.79245973e-02\n",
      " -5.25708527e-02 -3.26923553e-02 -6.93538993e-02 -2.62607591e-02\n",
      " -1.22634051e-01 -1.33985753e-01 -1.45838446e-01 -4.94269235e-02\n",
      " -4.37574364e-02 -3.03030616e-02 -6.70499814e-02 -7.65685656e-02\n",
      " -8.16503600e-03 -9.58695640e-02 -3.22351173e-02 -7.40029288e-02\n",
      " -1.20660545e-01 -4.20450654e-02 -9.15592221e-02 -1.04942999e-01\n",
      " -1.50564501e-01 -2.71600917e-02 -7.17876667e-02 -1.31577619e-01]\n"
     ]
    },
    {
     "data": {
      "image/png": "[encoded data removed]",
      "text/plain": [
       "<Figure size 1000x600 with 1 Axes>"
      ]
     },
     "metadata": {},
     "output_type": "display_data"
    }
   ],
   "source": [
    "# ----- Function1 -----\n",
    "max_iteration = 100\n",
    "gd_result_f1, gd_history_f1 = gradient_descent(\n",
    "    function1, grad_function1, x0_f1, max_iter=max_iteration\n",
    ")\n",
    "newton_result_f1, newton_history_f1 = newton_method(\n",
    "    function1,\n",
    "    grad_function1,\n",
    "    lambda x: 2 * np.diag(np.arange(1, len(x) + 1)),\n",
    "    x0_f1,\n",
    "    max_iter=max_iteration,\n",
    ")\n",
    "quasi_newton_result_f1, quasi_newton_history_f1 = quasi_newton(\n",
    "    function1, grad_function1, x0_f1, max_iter=max_iteration\n",
    ")\n",
    "signsgd_result_f1, signsgd_history_f1 = signgd(\n",
    "    function1, grad_function1, x0_f1, max_iter=max_iteration\n",
    ")\n",
    "\n",
    "print(\"Function1 Results:\")\n",
    "print(\"Gradient Descent:\", gd_result_f1)\n",
    "print(\"Newton:\", newton_result_f1)\n",
    "print(\"Quasi-Newton:\", quasi_newton_result_f1)\n",
    "print(\"SignSGD:\", signsgd_result_f1)\n",
    "\n",
    "# Plot for function1\n",
    "plt.figure(figsize=(10, 6))\n",
    "plt.plot(gd_history_f1, label=\"Gradient Descent\")\n",
    "plt.plot(newton_history_f1, label=\"Newton\")\n",
    "plt.plot(quasi_newton_history_f1, label=\"Quasi-Newton\")\n",
    "plt.plot(signsgd_history_f1, label=\"SignSGD\")\n",
    "plt.xlabel(\"Interation\")\n",
    "plt.ylabel(\"Function Value\")\n",
    "plt.title(\"Covergence of Function1\")\n",
    "plt.legend()\n",
    "plt.show()"
   ]
  }
 ],
 "metadata": {
  "kernelspec": {
   "display_name": "base",
   "language": "python",
   "name": "python3"
  },
  "language_info": {
   "codemirror_mode": {
    "name": "ipython",
    "version": 3
   },
   "file_extension": ".py",
   "mimetype": "text/x-python",
   "name": "python",
   "nbconvert_exporter": "python",
   "pygments_lexer": "ipython3",
   "version": "3.11.5"
  }
 },
 "nbformat": 4,
 "nbformat_minor": 2
}
