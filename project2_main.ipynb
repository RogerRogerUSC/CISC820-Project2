{
 "cells": [
  {
   "cell_type": "code",
   "execution_count": null,
   "metadata": {},
   "outputs": [],
   "source": [
    "import numpy as np\n",
    "import matplotlib.pyplot as plt"
   ]
  },
  {
   "cell_type": "code",
   "execution_count": null,
   "metadata": {},
   "outputs": [],
   "source": [
    "# Loading data function for function2\n",
    "def load_data():\n",
    "    A = np.loadtxt(\"data/fun2_A.txt\").reshape((500, 100))\n",
    "    b = np.loadtxt(\"data/fun2_b.txt\").reshape(-1, 1)\n",
    "    c = np.loadtxt(\"data/fun2_c.txt\").reshape(-1, 1)\n",
    "    return A, b, c\n",
    "\n",
    "\n",
    "# Initialize coefficient and start point\n",
    "A, b, c = load_data()\n",
    "x0_f1 = np.random.rand(100)\n",
    "x0_f2 = np.abs(np.random.rand(100))\n",
    "x0_f3 = np.array([0.0, 0.0])"
   ]
  },
  {
   "cell_type": "code",
   "execution_count": null,
   "metadata": {},
   "outputs": [],
   "source": [
    "# Define function1\n",
    "def function1(x):\n",
    "    return np.sum(np.arange(1, len(x) + 1) * x**2)\n",
    "\n",
    "\n",
    "def grad_function1(x):\n",
    "    return 2 * np.arange(1, len(x) + 1) * x"
   ]
  },
  {
   "cell_type": "code",
   "execution_count": null,
   "metadata": {},
   "outputs": [],
   "source": [
    "# Define function2\n",
    "def function2(x, A, b, c):\n",
    "    Ax = A @ x\n",
    "    return c.T @ x - np.sum(np.log(np.clip(b.flatten() - Ax, 1e-8, None)))\n",
    "\n",
    "\n",
    "def grad_function2(x, A, b, c):\n",
    "    Ax = A @ x\n",
    "    term = 1 / (b.flatten() - Ax)\n",
    "    return c.flatten() + A.T @ term\n",
    "\n",
    "\n",
    "def hessian_function2(x, A, b):\n",
    "    Ax = A @ x\n",
    "    D = np.diagflat(1 / np.clip((b.flatten() - Ax) ** 2, 1e-10, None))\n",
    "    H = A.T @ D @ A\n",
    "    H += 1e-6 * np.eye(H.shape[0])\n",
    "    return H"
   ]
  },
  {
   "cell_type": "code",
   "execution_count": null,
   "metadata": {},
   "outputs": [],
   "source": [
    "# Define function3\n",
    "def function3(x):\n",
    "    return 100 * (x[1] - x[0] ** 2) ** 2 + (1 - x[0]) ** 2\n",
    "\n",
    "\n",
    "def grad_function3(x):\n",
    "    return np.array(\n",
    "        [-400 * x[0] * (x[1] - x[0] ** 2) - 2 * (1 - x[0]), 200 * (x[1] - x[0] ** 2)]\n",
    "    )\n",
    "\n",
    "\n",
    "def hessian_function3(x):\n",
    "    return np.array(\n",
    "        [[1200 * x[0] ** 2 - 400 * x[1] + 2, -400 * x[0]], [-400 * x[0], 200]]\n",
    "    )"
   ]
  },
  {
   "cell_type": "code",
   "execution_count": null,
   "metadata": {},
   "outputs": [],
   "source": [
    "# Optimization method 1: GD\n",
    "def gradient_descent(func, grad_func, x0, alpha=0.001, tol=1e-6, max_iter=200):\n",
    "    x = x0\n",
    "    history = []\n",
    "    for i in range(max_iter):\n",
    "        grad = grad_func(x)\n",
    "        history.append(func(x))\n",
    "        x = x - alpha * grad\n",
    "        if np.linalg.norm(grad) < tol:\n",
    "            break\n",
    "    return x, history"
   ]
  },
  {
   "cell_type": "code",
   "execution_count": null,
   "metadata": {},
   "outputs": [],
   "source": [
    "# ----- Function1 -----\n",
    "gd_result_f1, gd_history_f1 = gradient_descent(function1, grad_function1, x0_f1)\n",
    "print(\"Function1 Results:\")\n",
    "print(\"Gradient Descent:\", gd_result_f1)\n",
    "\n",
    "# Plot for function1\n",
    "plt.figure(figsize=(10, 6))\n",
    "plt.plot(gd_history_f1, label=\"Gradient Descent\")\n",
    "plt.xlabel(\"Interation\")\n",
    "plt.ylabel(\"Function Value\")\n",
    "plt.title(\"Covergence of Function1\")\n",
    "plt.legend()\n",
    "plt.show()"
   ]
  }
 ],
 "metadata": {
  "kernelspec": {
   "display_name": "base",
   "language": "python",
   "name": "python3"
  },
  "language_info": {
   "name": "python",
   "version": "3.11.5"
  }
 },
 "nbformat": 4,
 "nbformat_minor": 2
}
